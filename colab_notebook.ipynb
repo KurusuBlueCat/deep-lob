{
  "cells": [
    {
      "cell_type": "markdown",
      "metadata": {
        "id": "view-in-github",
        "colab_type": "text"
      },
      "source": [
        "<a href=\"https://colab.research.google.com/github/KurusuBlueCat/deep-lob/blob/main/colab_notebook.ipynb\" target=\"_parent\"><img src=\"https://colab.research.google.com/assets/colab-badge.svg\" alt=\"Open In Colab\"/></a>"
      ]
    },
    {
      "cell_type": "code",
      "source": [
        "from google.colab import drive\n",
        "drive.mount('/content/drive')"
      ],
      "metadata": {
        "colab": {
          "base_uri": "https://localhost:8080/"
        },
        "id": "cFMM6oPutayU",
        "outputId": "954b37db-d3ae-4222-fffe-8639d2d7cd47"
      },
      "execution_count": null,
      "outputs": [
        {
          "output_type": "stream",
          "name": "stdout",
          "text": [
            "Mounted at /content/drive\n"
          ]
        }
      ]
    },
    {
      "cell_type": "code",
      "source": [
        "%cd /content/"
      ],
      "metadata": {
        "colab": {
          "base_uri": "https://localhost:8080/"
        },
        "id": "ARfuTY09qyZf",
        "outputId": "e7e8107f-009c-4f17-cd86-413d7ef8b852"
      },
      "execution_count": null,
      "outputs": [
        {
          "output_type": "stream",
          "name": "stdout",
          "text": [
            "/content\n"
          ]
        }
      ]
    },
    {
      "cell_type": "code",
      "source": [
        "!npx degit KurusuBlueCat/deep-lob -f"
      ],
      "metadata": {
        "colab": {
          "base_uri": "https://localhost:8080/"
        },
        "id": "lteCKpUlrjbd",
        "outputId": "a756ddaa-5a37-4d1f-bbe7-e5befda26ffa"
      },
      "execution_count": null,
      "outputs": [
        {
          "output_type": "stream",
          "name": "stdout",
          "text": [
            "\u001b[K\u001b[?25hnpx: installed 1 in 1.9s\n",
            "\u001b[36m> destination directory is not empty. Using --force, continuing\u001b[39m\n",
            "\u001b[36m> cloned \u001b[1mKurusuBlueCat/deep-lob\u001b[22m#\u001b[1mHEAD\u001b[22m\u001b[39m\n"
          ]
        }
      ]
    },
    {
      "cell_type": "code",
      "source": [
        "!pip install tf-nightly"
      ],
      "metadata": {
        "colab": {
          "base_uri": "https://localhost:8080/"
        },
        "id": "Qjt8QxHbvGKd",
        "outputId": "0824a214-71ca-470a-9e9c-53a5490931f9"
      },
      "execution_count": null,
      "outputs": [
        {
          "output_type": "stream",
          "name": "stdout",
          "text": [
            "Looking in indexes: https://pypi.org/simple, https://us-python.pkg.dev/colab-wheels/public/simple/\n",
            "Collecting tf-nightly\n",
            "  Downloading tf_nightly-2.14.0.dev20230608-cp310-cp310-manylinux_2_17_x86_64.manylinux2014_x86_64.whl (489.6 MB)\n",
            "\u001b[2K     \u001b[90m━━━━━━━━━━━━━━━━━━━━━━━━━━━━━━━━━━━━━━━\u001b[0m \u001b[32m489.6/489.6 MB\u001b[0m \u001b[31m2.5 MB/s\u001b[0m eta \u001b[36m0:00:00\u001b[0m\n",
            "\u001b[?25hRequirement already satisfied: absl-py>=1.0.0 in /usr/local/lib/python3.10/dist-packages (from tf-nightly) (1.4.0)\n",
            "Requirement already satisfied: astunparse>=1.6.0 in /usr/local/lib/python3.10/dist-packages (from tf-nightly) (1.6.3)\n",
            "Collecting flatbuffers>=23.5.8 (from tf-nightly)\n",
            "  Downloading flatbuffers-23.5.26-py2.py3-none-any.whl (26 kB)\n",
            "Requirement already satisfied: gast<=0.4.0,>=0.2.1 in /usr/local/lib/python3.10/dist-packages (from tf-nightly) (0.4.0)\n",
            "Requirement already satisfied: google-pasta>=0.1.1 in /usr/local/lib/python3.10/dist-packages (from tf-nightly) (0.2.0)\n",
            "Requirement already satisfied: grpcio<2.0,>=1.24.3 in /usr/local/lib/python3.10/dist-packages (from tf-nightly) (1.54.0)\n",
            "Requirement already satisfied: h5py>=2.9.0 in /usr/local/lib/python3.10/dist-packages (from tf-nightly) (3.8.0)\n",
            "Collecting keras-nightly~=2.14.0.dev (from tf-nightly)\n",
            "  Downloading keras_nightly-2.14.0.dev2023060807-py3-none-any.whl (1.7 MB)\n",
            "\u001b[2K     \u001b[90m━━━━━━━━━━━━━━━━━━━━━━━━━━━━━━━━━━━━━━━━\u001b[0m \u001b[32m1.7/1.7 MB\u001b[0m \u001b[31m81.2 MB/s\u001b[0m eta \u001b[36m0:00:00\u001b[0m\n",
            "\u001b[?25hRequirement already satisfied: libclang>=13.0.0 in /usr/local/lib/python3.10/dist-packages (from tf-nightly) (16.0.0)\n",
            "Requirement already satisfied: numpy>=1.22 in /usr/local/lib/python3.10/dist-packages (from tf-nightly) (1.22.4)\n",
            "Requirement already satisfied: opt-einsum>=2.3.2 in /usr/local/lib/python3.10/dist-packages (from tf-nightly) (3.3.0)\n",
            "Requirement already satisfied: packaging in /usr/local/lib/python3.10/dist-packages (from tf-nightly) (23.1)\n",
            "Requirement already satisfied: protobuf!=4.21.0,!=4.21.1,!=4.21.2,!=4.21.3,!=4.21.4,!=4.21.5,<5.0.0dev,>=3.20.3 in /usr/local/lib/python3.10/dist-packages (from tf-nightly) (3.20.3)\n",
            "Requirement already satisfied: setuptools in /usr/local/lib/python3.10/dist-packages (from tf-nightly) (67.7.2)\n",
            "Requirement already satisfied: six>=1.12.0 in /usr/local/lib/python3.10/dist-packages (from tf-nightly) (1.16.0)\n",
            "Collecting tb-nightly~=2.14.0.a (from tf-nightly)\n",
            "  Downloading tb_nightly-2.14.0a20230605-py3-none-any.whl (5.6 MB)\n",
            "\u001b[2K     \u001b[90m━━━━━━━━━━━━━━━━━━━━━━━━━━━━━━━━━━━━━━━━\u001b[0m \u001b[32m5.6/5.6 MB\u001b[0m \u001b[31m102.3 MB/s\u001b[0m eta \u001b[36m0:00:00\u001b[0m\n",
            "\u001b[?25hRequirement already satisfied: termcolor>=1.1.0 in /usr/local/lib/python3.10/dist-packages (from tf-nightly) (2.3.0)\n",
            "Collecting tf-estimator-nightly~=2.14.0.dev (from tf-nightly)\n",
            "  Downloading tf_estimator_nightly-2.14.0.dev2023060108-py2.py3-none-any.whl (440 kB)\n",
            "\u001b[2K     \u001b[90m━━━━━━━━━━━━━━━━━━━━━━━━━━━━━━━━━━━━━━\u001b[0m \u001b[32m441.0/441.0 kB\u001b[0m \u001b[31m40.1 MB/s\u001b[0m eta \u001b[36m0:00:00\u001b[0m\n",
            "\u001b[?25hRequirement already satisfied: typing-extensions<4.6.0,>=3.6.6 in /usr/local/lib/python3.10/dist-packages (from tf-nightly) (4.5.0)\n",
            "Requirement already satisfied: wrapt>=1.11.0 in /usr/local/lib/python3.10/dist-packages (from tf-nightly) (1.14.1)\n",
            "Requirement already satisfied: tensorflow-io-gcs-filesystem>=0.23.1 in /usr/local/lib/python3.10/dist-packages (from tf-nightly) (0.32.0)\n",
            "Requirement already satisfied: wheel<1.0,>=0.23.0 in /usr/local/lib/python3.10/dist-packages (from astunparse>=1.6.0->tf-nightly) (0.40.0)\n",
            "Requirement already satisfied: google-auth<3,>=1.6.3 in /usr/local/lib/python3.10/dist-packages (from tb-nightly~=2.14.0.a->tf-nightly) (2.17.3)\n",
            "Requirement already satisfied: google-auth-oauthlib<1.1,>=0.5 in /usr/local/lib/python3.10/dist-packages (from tb-nightly~=2.14.0.a->tf-nightly) (1.0.0)\n",
            "Requirement already satisfied: markdown>=2.6.8 in /usr/local/lib/python3.10/dist-packages (from tb-nightly~=2.14.0.a->tf-nightly) (3.4.3)\n",
            "Requirement already satisfied: requests<3,>=2.21.0 in /usr/local/lib/python3.10/dist-packages (from tb-nightly~=2.14.0.a->tf-nightly) (2.27.1)\n",
            "Requirement already satisfied: tensorboard-data-server<0.8.0,>=0.7.0 in /usr/local/lib/python3.10/dist-packages (from tb-nightly~=2.14.0.a->tf-nightly) (0.7.0)\n",
            "Requirement already satisfied: werkzeug>=1.0.1 in /usr/local/lib/python3.10/dist-packages (from tb-nightly~=2.14.0.a->tf-nightly) (2.3.0)\n",
            "Requirement already satisfied: cachetools<6.0,>=2.0.0 in /usr/local/lib/python3.10/dist-packages (from google-auth<3,>=1.6.3->tb-nightly~=2.14.0.a->tf-nightly) (5.3.0)\n",
            "Requirement already satisfied: pyasn1-modules>=0.2.1 in /usr/local/lib/python3.10/dist-packages (from google-auth<3,>=1.6.3->tb-nightly~=2.14.0.a->tf-nightly) (0.3.0)\n",
            "Requirement already satisfied: rsa<5,>=3.1.4 in /usr/local/lib/python3.10/dist-packages (from google-auth<3,>=1.6.3->tb-nightly~=2.14.0.a->tf-nightly) (4.9)\n",
            "Requirement already satisfied: requests-oauthlib>=0.7.0 in /usr/local/lib/python3.10/dist-packages (from google-auth-oauthlib<1.1,>=0.5->tb-nightly~=2.14.0.a->tf-nightly) (1.3.1)\n",
            "Requirement already satisfied: urllib3<1.27,>=1.21.1 in /usr/local/lib/python3.10/dist-packages (from requests<3,>=2.21.0->tb-nightly~=2.14.0.a->tf-nightly) (1.26.15)\n",
            "Requirement already satisfied: certifi>=2017.4.17 in /usr/local/lib/python3.10/dist-packages (from requests<3,>=2.21.0->tb-nightly~=2.14.0.a->tf-nightly) (2022.12.7)\n",
            "Requirement already satisfied: charset-normalizer~=2.0.0 in /usr/local/lib/python3.10/dist-packages (from requests<3,>=2.21.0->tb-nightly~=2.14.0.a->tf-nightly) (2.0.12)\n",
            "Requirement already satisfied: idna<4,>=2.5 in /usr/local/lib/python3.10/dist-packages (from requests<3,>=2.21.0->tb-nightly~=2.14.0.a->tf-nightly) (3.4)\n",
            "Requirement already satisfied: MarkupSafe>=2.1.1 in /usr/local/lib/python3.10/dist-packages (from werkzeug>=1.0.1->tb-nightly~=2.14.0.a->tf-nightly) (2.1.2)\n",
            "Requirement already satisfied: pyasn1<0.6.0,>=0.4.6 in /usr/local/lib/python3.10/dist-packages (from pyasn1-modules>=0.2.1->google-auth<3,>=1.6.3->tb-nightly~=2.14.0.a->tf-nightly) (0.5.0)\n",
            "Requirement already satisfied: oauthlib>=3.0.0 in /usr/local/lib/python3.10/dist-packages (from requests-oauthlib>=0.7.0->google-auth-oauthlib<1.1,>=0.5->tb-nightly~=2.14.0.a->tf-nightly) (3.2.2)\n",
            "Installing collected packages: flatbuffers, tf-estimator-nightly, keras-nightly, tb-nightly, tf-nightly\n",
            "  Attempting uninstall: flatbuffers\n",
            "    Found existing installation: flatbuffers 23.3.3\n",
            "    Uninstalling flatbuffers-23.3.3:\n",
            "      Successfully uninstalled flatbuffers-23.3.3\n",
            "Successfully installed flatbuffers-23.5.26 keras-nightly-2.14.0.dev2023060807 tb-nightly-2.14.0a20230605 tf-estimator-nightly-2.14.0.dev2023060108 tf-nightly-2.14.0.dev20230608\n"
          ]
        }
      ]
    },
    {
      "cell_type": "code",
      "execution_count": null,
      "metadata": {
        "id": "_2uYvhDemQvx"
      },
      "outputs": [],
      "source": [
        "import keras\n",
        "import tensorflow as tf\n",
        "from keras.utils import Sequence\n",
        "from keras import layers\n",
        "from keras.callbacks import CSVLogger\n",
        "from matplotlib import pyplot as plt\n",
        "from sklearn.model_selection import KFold\n",
        "import json\n",
        "from dataclasses import dataclass, asdict\n",
        "import ast\n",
        "import os\n",
        "from typing import Union, List\n",
        "from datetime import datetime, timedelta\n",
        "import time"
      ]
    },
    {
      "cell_type": "code",
      "execution_count": null,
      "metadata": {
        "id": "dkr8phRLmQvy"
      },
      "outputs": [],
      "source": [
        "from sklearn.preprocessing import StandardScaler"
      ]
    },
    {
      "cell_type": "code",
      "execution_count": null,
      "metadata": {
        "id": "evYv4SSMmQvy"
      },
      "outputs": [],
      "source": [
        "import stride_data"
      ]
    },
    {
      "cell_type": "code",
      "execution_count": null,
      "metadata": {
        "id": "IQFo2FsrmQvz"
      },
      "outputs": [],
      "source": [
        "import pandas as pd\n",
        "import numpy as np"
      ]
    },
    {
      "cell_type": "code",
      "source": [
        "#this path should link to a folder in your drive that contains the data required.\n",
        "#will also output run report there at output/ folder\n",
        "gdrive_data_folder = \"/content/drive/MyDrive/github_repo/deep-lob\""
      ],
      "metadata": {
        "id": "vt3IpcrCtUHt"
      },
      "execution_count": null,
      "outputs": []
    },
    {
      "cell_type": "code",
      "execution_count": null,
      "metadata": {
        "id": "XUKvF4D_mQv0"
      },
      "outputs": [],
      "source": [
        "from collections import namedtuple\n",
        "Chunk = namedtuple('Chunk', ['lob', 'factor', 'label'])"
      ]
    },
    {
      "cell_type": "code",
      "execution_count": null,
      "metadata": {
        "id": "0tEEpNePmQv0"
      },
      "outputs": [],
      "source": [
        "def get_factor_itr(factor_file_list=[f'factor_22.csv', 'factor_23.csv'], base_folder=f'{gdrive_data_folder}/factor',\n",
        "                   chunksize=500000):\n",
        "    itr_list = []\n",
        "    for f_name in factor_file_list:\n",
        "        itr_list.append(pd.read_csv(fr'{base_folder}/{f_name}', chunksize=chunksize))\n",
        "\n",
        "    for df_tuple in zip(*itr_list):\n",
        "        df_list = []\n",
        "        for df in df_tuple:\n",
        "            df['time'] = pd.to_datetime(df['time'])\n",
        "            df = df.set_index('time').sort_index()\n",
        "            # print(df.index.min(), df.index.max())\n",
        "            df = df[~df.index.duplicated()]\n",
        "            # print(df.index.min(), df.index.max())\n",
        "            df_list.append(df)\n",
        "        yield pd.concat(df_list, axis=1)"
      ]
    },
    {
      "cell_type": "code",
      "execution_count": null,
      "metadata": {
        "id": "56Rf2YyVmQv0"
      },
      "outputs": [],
      "source": [
        "chunksize = 100000\n",
        "\n",
        "all_feature = ['volume', 'bid_1', 'bid_1', 'bid_size_1', 'ask_1',\n",
        "       'ask_size_1', 'bid_2', 'bid_size_2', 'ask_2', 'ask_size_2', 'bid_3',\n",
        "       'bid_size_3', 'ask_3', 'ask_size_3', 'bid_4', 'bid_size_4', 'ask_4',\n",
        "       'ask_size_4', 'bid_5', 'bid_size_5', 'ask_5', 'ask_size_5', 'vwap']\n",
        "\n",
        "lob_feature = ['bid_1', 'bid_size_1', 'ask_1',\n",
        "               'ask_size_1', 'bid_2', 'bid_size_2', 'ask_2', 'ask_size_2', 'bid_3',\n",
        "               'bid_size_3', 'ask_3', 'ask_size_3', 'bid_4', 'bid_size_4', 'ask_4',\n",
        "               'ask_size_4', 'bid_5', 'bid_size_5', 'ask_5', 'ask_size_5']\n",
        "\n",
        "def get_chunk_from_file_gen():\n",
        "    data_itr = pd.read_csv(f'{gdrive_data_folder}/data/data_night_shifted_au.csv.gz', chunksize=chunksize)\n",
        "    label_itr = pd.read_csv(f'{gdrive_data_folder}/label/2_min_tp4_sl2_10yuan_1delay_target.csv', chunksize=chunksize)\n",
        "    factor_itr = get_factor_itr(['factor_24.csv', 'factor_23.csv'], chunksize=chunksize)\n",
        "\n",
        "    for df, fac, label in zip(data_itr, factor_itr, label_itr):\n",
        "        df['time'] = pd.to_datetime(df['time'])\n",
        "        df = df.set_index('time').sort_index()\n",
        "\n",
        "        label['time'] = pd.to_datetime(label['time'])\n",
        "        label = label.set_index('time').sort_index()\n",
        "\n",
        "        df = df.loc[~df.index.duplicated()]\n",
        "        fac = fac.loc[~fac.index.duplicated()]\n",
        "        label = label.loc[~label.index.duplicated()]\n",
        "        # print(df.index.max(), label.index.max(), fac.index.max())\n",
        "        if (fac.index.max() != label.index.max()) or (fac.index.max() != df.index.max()):\n",
        "            raise RuntimeError(\"Index do not match!\")\n",
        "\n",
        "        yield Chunk(df, fac, label), label.index.max()\n",
        "\n",
        "def concat_chunk(*chunk_tuple):\n",
        "    arg_list = []\n",
        "    for df_tuple in zip(*chunk_tuple):\n",
        "        df = pd.concat(df_tuple).sort_index()\n",
        "        df = df.loc[~df.index.duplicated()]\n",
        "        arg_list.append(df)\n",
        "    return Chunk(*arg_list)\n",
        "\n",
        "def get_weekly_data_gen(skip_to=None):\n",
        "    print('Data loading started')\n",
        "    chunk_gen = get_chunk_from_file_gen()\n",
        "    while True:\n",
        "        chunk, latest = next(chunk_gen)\n",
        "        print(f\"                                         \", end='\\r')\n",
        "        time.sleep(0)\n",
        "        print(f\"{latest=}\", end='\\r')\n",
        "        time.sleep(0)\n",
        "        if skip_to is not None:\n",
        "            if latest < skip_to:\n",
        "                continue\n",
        "\n",
        "        if (chunk.label.index.day_of_week == 0).sum() > 0:\n",
        "            start = chunk.label[chunk.label.index.day_of_week == 0].index.date.min()\n",
        "            start: pd.Timestamp = pd.Timestamp(start)\n",
        "            end = start + pd.Timedelta(5,'d') #end on friday midnight\n",
        "            break\n",
        "\n",
        "    chunk = Chunk(*[data[data.index >= start] for data in chunk])\n",
        "    for new_chunk, latest in chunk_gen:\n",
        "        chunk = concat_chunk(chunk, new_chunk)\n",
        "        while latest > end:\n",
        "            print(f\"                                                  \", end='\\r')\n",
        "            time.sleep(0)\n",
        "            print(f\"{latest=}\", end='\\r')\n",
        "            time.sleep(0)\n",
        "            to_yield = Chunk(*(df.loc[start:end] for df in chunk))\n",
        "            chunk = Chunk(*(df.loc[end:] for df in chunk))\n",
        "            start = start + pd.Timedelta(7,'d')\n",
        "            end = end + pd.Timedelta(7,'d')\n",
        "            yield to_yield\n",
        "\n",
        "def get_chunk_list_gen(list_len=2, skip_to=None, end=None):\n",
        "    out_list = []\n",
        "    weekly_gen = get_weekly_data_gen(skip_to)\n",
        "    for week_chunk in weekly_gen:\n",
        "        if (end is not None) and (week_chunk.label.index.max() > end):\n",
        "            break \n",
        "        out_list.append(week_chunk)\n",
        "        if len(out_list) < list_len:\n",
        "            continue\n",
        "        if len(out_list) > list_len:\n",
        "            out_list = out_list[1:] #basically, pop left\n",
        "        yield out_list\n",
        "\n",
        "def split_market(chunk, avoid_market_edge = timedelta(minutes=5)):\n",
        "    chunk_arg = []\n",
        "    for df in chunk:\n",
        "        night_df = df.loc[(df.index.time >= (datetime(1970,1,1,21,0,0)+avoid_market_edge).time()) \n",
        "                        | (df.index.time <= (datetime(1970,1,1,2,30,0)-avoid_market_edge).time())] #night market\n",
        "        morning_df = df.loc[(df.index.time >= (datetime(1970,1,1,9,0,0)+avoid_market_edge).time()) \n",
        "                            & (df.index.time <= (datetime(1970,1,1,11,30,0)-avoid_market_edge).time())] #morning market\n",
        "        afternoon_df = df.loc[(df.index.time >= (datetime(1970,1,1,13,30,0)+avoid_market_edge).time())\n",
        "                            & (df.index.time <= (datetime(1970,1,1,15,0,0)-avoid_market_edge).time())] #afternoon market\n",
        "        chunk_arg.append((morning_df, afternoon_df, night_df))\n",
        "\n",
        "    return tuple(Chunk(*df_list) for df_list in zip(*chunk_arg))"
      ]
    },
    {
      "cell_type": "code",
      "execution_count": null,
      "metadata": {
        "id": "rt-yAH0JmQv2"
      },
      "outputs": [],
      "source": [
        "\n",
        "# training_week = 8\n",
        "# skip_to = pd.Timestamp('2022-11-01 00:00:00.000') #use this to skip to the period we want\n",
        "# # skip_to = None\n",
        "# # end = pd.Timestamp('2022-07-15 23:59:59.500') #use this to fix when to stop training\n",
        "# end = pd.Timestamp('2023-01-01 00:00:00')\n",
        "\n",
        "# chunk_list_gen = get_chunk_list_gen(training_week+1, skip_to=skip_to, end=end)\n",
        "# for i, chunk_list in enumerate(chunk_list_gen):\n",
        "#     break\n",
        "\n",
        "# train_chunk = concat_chunk(*chunk_list[:training_week])\n",
        "# walk_forward_chunk = chunk_list[-1]\n",
        "\n",
        "# morning_train_chunk, afternoon_train_chunk, night_train_chunk = split_market(train_chunk)\n",
        "# morning_wf_chunk, afternoon_wf_chunk, night_wf_chunk = split_market(walk_forward_chunk)"
      ]
    },
    {
      "cell_type": "code",
      "execution_count": null,
      "metadata": {
        "id": "Z45dXLQVmQv2"
      },
      "outputs": [],
      "source": [
        "# lookback = 50 #this number of timestep per batch\n",
        "# batch_size = 1000 #this number of samples in a batch\n",
        "\n",
        "# chunk = morning_train_chunk\n",
        "\n",
        "# sp_list_list = []\n",
        "# for chunk in [morning_train_chunk, afternoon_train_chunk, night_train_chunk]:\n",
        "\n",
        "#     X = chunk.lob.loc[:, all_feature].join(chunk.factor)\n",
        "#     y = chunk.label\n",
        "\n",
        "#     sp_list : List[stride_data.SequencePair] = stride_data.create_train_val_sequence_cv(X, y.iloc[:, 0], cv=4, lookback=lookback, \n",
        "#                                             batch_size=batch_size, batch_no=None, \n",
        "#                                             shuffle=False)\n",
        "\n",
        "#     sp_list_list.append(sp_list)\n",
        "\n",
        "# sequence_pair_list_per_cv = list(zip(*sp_list_list))\n",
        "# sequence_list_per_cv = [stride_data.CombinedSequence(*[sequence_pair_list_per_cv[i][j].train_sequence \n",
        "#                         for j in range(len(sequence_pair_list_per_cv[i]))])\n",
        "#                         for i in range(len(sequence_pair_list_per_cv))]"
      ]
    },
    {
      "cell_type": "code",
      "source": [
        "def make_model_original(lookback, feature_no, lob_unit, inception_unit):\n",
        "\n",
        "    input_layer = layers.Input(shape=(lookback, feature_no))\n",
        "    lob_layer = layers.Reshape(target_shape=(lookback,feature_no,1))(input_layer)\n",
        "\n",
        "    cnn_act = 'leaky_relu'\n",
        "\n",
        "    lob_layer = layers.Conv2D(filters=lob_unit, kernel_size=(1,2), strides=(1,2), activation=cnn_act)(lob_layer)\n",
        "    lob_layer = layers.Conv2D(filters=lob_unit, kernel_size=(5,1), padding='same', activation=cnn_act)(lob_layer)\n",
        "    lob_layer = layers.Conv2D(filters=lob_unit, kernel_size=(1,2), strides=(1,2), activation=cnn_act)(lob_layer)\n",
        "    lob_layer = layers.Conv2D(filters=lob_unit, kernel_size=(5,1), padding='same', activation=cnn_act)(lob_layer)\n",
        "    lob_layer = layers.Conv2D(filters=lob_unit, kernel_size=(1,5), activation=cnn_act)(lob_layer)\n",
        "    lob_layer = layers.Conv2D(filters=lob_unit, kernel_size=(5,1), padding='same', activation=cnn_act)(lob_layer)\n",
        "\n",
        "    inception_act = 'leaky_relu'\n",
        "\n",
        "    inception_1 = layers.Conv2D(inception_unit, (1,1), padding='same', activation=inception_act)(lob_layer)\n",
        "    inception_1 = layers.Conv2D(inception_unit, (3,1), padding='same', activation=inception_act)(inception_1)\n",
        "\n",
        "    inception_2 = layers.Conv2D(inception_unit, (1,1), padding='same', activation=inception_act)(lob_layer)\n",
        "    inception_2 = layers.Conv2D(inception_unit, (5,1), padding='same', activation=inception_act)(inception_2)\n",
        "\n",
        "    inception_3 = layers.MaxPooling2D((3,1), strides=(1,1), padding='same')(lob_layer)\n",
        "    inception_3 = layers.Conv2D(inception_unit, (1,1), padding='same', activation=inception_act)(inception_3)\n",
        "\n",
        "    inception = tf.keras.layers.concatenate([inception_1, inception_2, inception_3], axis=3)\n",
        "    inception = layers.Reshape((lookback, inception_unit*3))(inception)\n",
        "\n",
        "    lstm = layers.LSTM(32)(inception)\n",
        "    output = layers.Dense(3, activation='softmax')(lstm)\n",
        "\n",
        "    model = keras.Model(input_layer, output)\n",
        "\n",
        "    return model\n",
        "\n",
        "def make_model_mz_prelu(lookback, feature_no, lob_unit, inception_unit):\n",
        "\n",
        "    input_layer = layers.Input(shape=(lookback, feature_no))\n",
        "    lob_layer = layers.Reshape(target_shape=(lookback,feature_no,1))(input_layer)\n",
        "\n",
        "    cnn_act = 'linear'\n",
        "\n",
        "    lob_layer = layers.Conv2D(filters=lob_unit, kernel_size=(1,2), strides=(1,2), activation=cnn_act)(lob_layer)\n",
        "    lob_layer = layers.PReLU()(lob_layer)\n",
        "    lob_layer = layers.Conv2D(filters=lob_unit, kernel_size=(5,1), padding='same', activation=cnn_act)(lob_layer)\n",
        "    lob_layer = layers.PReLU()(lob_layer)\n",
        "    lob_layer = layers.Conv2D(filters=lob_unit, kernel_size=(1,2), strides=(1,2), activation=cnn_act)(lob_layer)\n",
        "    lob_layer = layers.PReLU()(lob_layer)\n",
        "    lob_layer = layers.Conv2D(filters=lob_unit, kernel_size=(5,1), padding='same', activation=cnn_act)(lob_layer)\n",
        "    lob_layer = layers.PReLU()(lob_layer)\n",
        "    lob_layer = layers.Conv2D(filters=lob_unit, kernel_size=(1,5), activation=cnn_act)(lob_layer)\n",
        "    lob_layer = layers.PReLU()(lob_layer)\n",
        "    lob_layer = layers.Conv2D(filters=lob_unit, kernel_size=(5,1), padding='same', activation=cnn_act)(lob_layer)\n",
        "    lob_layer = layers.PReLU()(lob_layer)\n",
        "\n",
        "    inception_act = 'linear'\n",
        "\n",
        "    inception_1 = layers.Conv2D(inception_unit, (1,1), padding='same', activation=inception_act)(lob_layer)\n",
        "    inception_1 = layers.PReLU()(inception_1)\n",
        "    inception_1 = layers.Conv2D(inception_unit, (3,1), padding='same', activation=inception_act)(inception_1)\n",
        "    inception_1 = layers.PReLU()(inception_1)\n",
        "\n",
        "    inception_2 = layers.Conv2D(inception_unit, (1,1), padding='same', activation=inception_act)(lob_layer)\n",
        "    inception_2 = layers.PReLU()(inception_2)\n",
        "    inception_2 = layers.Conv2D(inception_unit, (5,1), padding='same', activation=inception_act)(inception_2)\n",
        "    inception_2 = layers.PReLU()(inception_2)\n",
        "\n",
        "    inception_3 = layers.MaxPooling2D((3,1), strides=(1,1), padding='same')(lob_layer)\n",
        "    inception_3 = layers.PReLU()(inception_3)\n",
        "    inception_3 = layers.Conv2D(inception_unit, (1,1), padding='same', activation=inception_act)(inception_3)\n",
        "    inception_3 = layers.PReLU()(inception_3)\n",
        "\n",
        "    inception = tf.keras.layers.concatenate([inception_1, inception_2, inception_3], axis=3)\n",
        "    inception = layers.Reshape((lookback, inception_unit*3))(inception)\n",
        "\n",
        "    lstm = layers.LSTM(32)(inception)\n",
        "    output = layers.Dense(3, activation='softmax')(lstm)\n",
        "\n",
        "    model = keras.Model(input_layer, output)\n",
        "\n",
        "    return model\n",
        "\n",
        "model_maker_dict = {\n",
        "    'original' : make_model_original,\n",
        "    'mz_prelu' : make_model_mz_prelu,\n",
        "}"
      ],
      "metadata": {
        "id": "qch7UhIbxXRS"
      },
      "execution_count": null,
      "outputs": []
    },
    {
      "cell_type": "code",
      "execution_count": null,
      "metadata": {
        "id": "U8c8Zr6BmQv4"
      },
      "outputs": [],
      "source": [
        "schematic_dict = {\n",
        "    'stride2_depth_simple': [\n",
        "        (layers.Reshape, {'target_shape': (100,-1,1)}), #50 lookback\n",
        "        (layers.Conv2D, {'filters': 16, 'kernel_size': (1, 2), 'strides': (1, 2)}),\n",
        "        (layers.BatchNormalization, {}),\n",
        "        (layers.Conv2D, {'filters': 16, 'kernel_size': (5, 1), 'padding': 'same', 'activation': 'leaky_relu'}),\n",
        "        (layers.BatchNormalization, {}),\n",
        "        (layers.Conv2D, {'filters': 16, 'kernel_size': (1, 2), 'strides': (1, 2)}),\n",
        "        (layers.BatchNormalization, {}),\n",
        "        (layers.Conv2D, {'filters': 16, 'kernel_size': (5, 1), 'padding': 'same', 'activation': 'leaky_relu'}),\n",
        "        (layers.BatchNormalization, {}),\n",
        "        (layers.Conv2D, {'filters': 16, 'kernel_size': (1, 5), 'activation': 'leaky_relu'}),\n",
        "        (layers.BatchNormalization, {}),\n",
        "        (layers.Conv2D, {'filters': 16, 'kernel_size': (5, 1), 'padding': 'same', 'activation': 'leaky_relu'}),\n",
        "        (layers.Reshape, {'target_shape': (100,-1)}), #50 lookback\n",
        "        (layers.BatchNormalization, {}),\n",
        "        (layers.LSTM, {'units': 32, 'kernel_regularizer': 'l2'}),\n",
        "        (layers.BatchNormalization, {}),\n",
        "    ],\n",
        "}\n",
        "\n",
        "opt_dict = {\n",
        "    'Adam': tf.keras.optimizers.Adam,\n",
        "    'Nadam': tf.keras.optimizers.Nadam,\n",
        "}\n",
        "\n",
        "# try\n",
        "\n",
        "for k, s in schematic_dict.items():\n",
        "    for l, p in s:\n",
        "        l(**p)"
      ]
    },
    {
      "cell_type": "code",
      "execution_count": null,
      "metadata": {
        "id": "O0b3qlLhmQv6",
        "outputId": "b4ef945c-15bb-4050-c27e-3d44e9172c82",
        "colab": {
          "base_uri": "https://localhost:8080/"
        }
      },
      "outputs": [
        {
          "output_type": "execute_result",
          "data": {
            "text/plain": [
              "1"
            ]
          },
          "metadata": {},
          "execution_count": 17
        }
      ],
      "source": [
        "from sklearn.model_selection import ParameterGrid\n",
        "\n",
        "metric_dict = {\n",
        "    # 'mse': tf.keras.metrics.MeanSquaredError(name='mean_squared_error', dtype=None),\n",
        "    # 'mae': tf.keras.metrics.MeanAbsoluteError(name='mean_absolute_error', dtype=None),\n",
        "    'coss': tf.keras.metrics.CosineSimilarity(name='cosine_similarity', dtype=None),\n",
        "    'ce': tf.keras.metrics.CategoricalCrossentropy(name='categorical_ce', dtype=None)\n",
        "}\n",
        "\n",
        "cosine = tf.keras.losses.CosineSimilarity(name='cosine_similarity')\n",
        "mse = tf.keras.losses.MeanSquaredError(name='mean_squared_error')\n",
        "mae = tf.keras.losses.MeanAbsoluteError(name='mean_absolute_error')\n",
        "\n",
        "ce = tf.keras.losses.CategoricalCrossentropy(name='categorical_ce')\n",
        "fc = tf.keras.losses.CategoricalFocalCrossentropy()\n",
        "\n",
        "loss_dict = {\n",
        "    # 'mse': tf.keras.losses.MeanSquaredError(name='mean_squared_error', reduction=\"auto\"),\n",
        "    # 'mae': tf.keras.losses.MeanAbsoluteError(name='mean_absolute_error', reduction=\"auto\"),\n",
        "    'coss': tf.keras.losses.CosineSimilarity(name='cosine_similarity', reduction=\"auto\"),\n",
        "    'ce': tf.keras.losses.CategoricalCrossentropy(name='categorical_ce', reduction='auto'),\n",
        "    'fc': tf.keras.losses.CategoricalFocalCrossentropy(),\n",
        "    # 'ce': tf.keras.losses.BinaryFocalCrossentropy(name='categorical_ce', reduction='auto'),\n",
        "    # 'coss-mse': lambda y, yhat: mse(y, yhat) + cosine(y, yhat),\n",
        "    # 'coss-mae': lambda y, yhat: mae(y, yhat) + cosine(y, yhat),\n",
        "}\n",
        "\n",
        "#           'features' :  [['High', 'Low', 'Open', 'Close', \n",
        "#                          'vix_forward_5_historical', 'vix_forward_10_historical', 'vix_forward_15_historical']],\n",
        "\n",
        "p_grid = {'batch_size' : [128],\n",
        "          'features' :  [lob_feature],\n",
        "          'init_learning_rate' : [0.001],\n",
        "          'lr_decay' : [1.0],\n",
        "          'loss': ['fc'],\n",
        "          'schematic' : [\n",
        "#                          'cnn_1',\n",
        "                        #  'cnn_2',\n",
        "#                          'cnn_3',\n",
        "#                          'tuesday_1',\n",
        "#                          'tuesday_2', \n",
        "                        #  'midnight_1',]}\n",
        "                         'mz_prelu',]}\n",
        "#                          'midnight_6_2_rnn',\n",
        "                        #  'midnight_6_rnn',]}\n",
        "#                          'midnight_7',\n",
        "#                          'midnight_8',\n",
        "#                          'midnight_9',\n",
        "#                          'friday_1',\n",
        "#                          'friday_2',\n",
        "#                          'midnight_6_3',\n",
        "#                          'midnight_6_4',\n",
        "#                          'midnight_6_5',]}\n",
        "#                          'midnight_6_6',]}\n",
        "#                          'midnight_6_7']}\n",
        "\n",
        "p_grid = ParameterGrid(p_grid)\n",
        "len(p_grid)"
      ]
    },
    {
      "cell_type": "code",
      "execution_count": null,
      "metadata": {
        "id": "kDnWegwCmQv6"
      },
      "outputs": [],
      "source": [
        "lob_feature"
      ]
    },
    {
      "cell_type": "code",
      "execution_count": null,
      "metadata": {
        "id": "W9VX03w7mQv7"
      },
      "outputs": [],
      "source": [
        "def make_if_not_exist(folder_name, base_folder=f'{gdrive_data_folder}/output'):\n",
        "    try:\n",
        "        os.makedirs(fr'{base_folder}/{folder_name}')\n",
        "    except:\n",
        "        pass"
      ]
    },
    {
      "cell_type": "code",
      "execution_count": null,
      "metadata": {
        "id": "-QtoHy-WmQv7"
      },
      "outputs": [],
      "source": [
        "from dataclasses import field, dataclass\n",
        "\n",
        "@dataclass\n",
        "class HyperParameters:\n",
        "    features: list = field(default_factory=lambda: list(all_feature))\n",
        "    lookback: int = 50\n",
        "    epochs: int = 100\n",
        "    cv: int = 4\n",
        "    batch_size: int = 128\n",
        "    batch_no: tuple = (None, None, None) #per market period. Mornin afternoon night.\n",
        "    shuffle: bool = True\n",
        "    init_learning_rate: float = 2.5e-1\n",
        "    seed: int = 420\n",
        "    lr_decay: float = 0.95\n",
        "    trim: str = 'both'\n",
        "    decay_steps: int = 2000\n",
        "    schematic: str = 'midnight_1'\n",
        "    opt: str = 'Adam'\n",
        "    replace: bool = False\n",
        "    loss: str = 'ce'\n",
        "    training_week: int = 8\n",
        "    # skip_to = pd.Timestamp('2022-07-02 11:24:58.000') #use this to skip to the period we want\n",
        "    skip_to: pd.Timestamp = pd.Timestamp('2022-11-01 00:00:00.000')\n",
        "    # end = pd.Timestamp('2022-07-15 23:59:59.500') #use this to fix when to stop training\n",
        "    end: pd.Timestamp = pd.Timestamp('2023-03-01 00:00:00')\n",
        "\n",
        "hp_list = [HyperParameters(**p) for p in p_grid]\n",
        "base_output_folder = f'{gdrive_data_folder}/output'\n",
        "\n",
        "run_prefix = 'test'\n",
        "\n",
        "model_dict = {}\n",
        "\n",
        "make_if_not_exist(fr\"plots/{run_prefix}\", base_output_folder)\n",
        "make_if_not_exist(fr\"output/{run_prefix}\", base_output_folder)\n",
        "make_if_not_exist(fr\"callback_logs/{run_prefix}\", base_output_folder)\n",
        "make_if_not_exist(fr\"callback_logs/{run_prefix}/_temp\", base_output_folder)\n",
        "make_if_not_exist(fr\"run_summary/{run_prefix}\", base_output_folder)\n",
        "    \n",
        "# if run_prefix not in [d for d in os.listdir('output\\\\') if os.path.isdir('output\\\\' + d)]:\n",
        "#     os.makedirs('output\\\\' + run_prefix)"
      ]
    },
    {
      "cell_type": "code",
      "execution_count": null,
      "metadata": {
        "id": "q6d7T11ZmQv7",
        "outputId": "a6662c36-f046-42fc-9660-d4b5e21b73de",
        "colab": {
          "base_uri": "https://localhost:8080/"
        }
      },
      "outputs": [
        {
          "output_type": "stream",
          "name": "stdout",
          "text": [
            "HyperParameters(features=['bid_1', 'bid_size_1', 'ask_1', 'ask_size_1', 'bid_2', 'bid_size_2', 'ask_2', 'ask_size_2', 'bid_3', 'bid_size_3', 'ask_3', 'ask_size_3', 'bid_4', 'bid_size_4', 'ask_4', 'ask_size_4', 'bid_5', 'bid_size_5', 'ask_5', 'ask_size_5'], lookback=50, epochs=100, cv=4, batch_size=128, batch_no=(None, None, None), shuffle=True, init_learning_rate=0.001, seed=420, lr_decay=1.0, trim='both', decay_steps=2000, schematic='mz_prelu', opt='Adam', replace=False, loss='fc', training_week=8, skip_to=Timestamp('2022-11-01 00:00:00'), end=Timestamp('2023-03-01 00:00:00'))\n"
          ]
        }
      ],
      "source": [
        "continue_loop = 0\n",
        "end_loop = 9999\n",
        "\n",
        "for run_count, hp in enumerate(hp_list[continue_loop:]):\n",
        "    run_count += continue_loop\n",
        "    if run_count >= end_loop:\n",
        "        break\n",
        "    print(hp)\n",
        "    if hp.trim == 'both':\n",
        "        hp.trim = (hp.lookback, hp.lookback)\n",
        "    break\n",
        "\n"
      ]
    },
    {
      "cell_type": "code",
      "execution_count": null,
      "metadata": {
        "id": "1pavAQplmQv7",
        "outputId": "c7ce8e28-7726-4e1d-9a57-87f601a5f383",
        "colab": {
          "base_uri": "https://localhost:8080/"
        }
      },
      "outputs": [
        {
          "output_type": "stream",
          "name": "stdout",
          "text": [
            "Data loading started\n"
          ]
        }
      ],
      "source": [
        "chunk_list_gen = get_chunk_list_gen(hp.training_week+1, skip_to=hp.skip_to, end=hp.end)\n",
        "for i, chunk_list in enumerate(chunk_list_gen):\n",
        "    break\n",
        "\n",
        "train_chunk = concat_chunk(*chunk_list[:hp.training_week])\n",
        "walk_forward_chunk = chunk_list[-1]\n",
        "\n",
        "morning_train_chunk, afternoon_train_chunk, night_train_chunk = split_market(train_chunk)\n",
        "morning_wf_chunk, afternoon_wf_chunk, night_wf_chunk = split_market(walk_forward_chunk)"
      ]
    },
    {
      "cell_type": "code",
      "execution_count": null,
      "metadata": {
        "id": "1sTuGW9qmQv8",
        "outputId": "0e49e98d-d9db-4553-9940-9308b3dfd44f",
        "colab": {
          "base_uri": "https://localhost:8080/"
        }
      },
      "outputs": [
        {
          "output_type": "execute_result",
          "data": {
            "text/plain": [
              "-1    0.182673\n",
              " 0    0.623811\n",
              " 1    0.193516\n",
              "dtype: float64"
            ]
          },
          "metadata": {},
          "execution_count": 23
        }
      ],
      "source": [
        "def make_class(label, epsilon=1.0001):\n",
        "    long_wins = label['long_wealth'] > label['short_wealth']\n",
        "\n",
        "    class_label = pd.Series(np.nan, index=label.index)\n",
        "    class_label[label.notna().all(1)] = 0\n",
        "    class_label[long_wins & (label['long_wealth'] > epsilon)] = 1\n",
        "    class_label[~long_wins & (label['short_wealth'] > epsilon)] = -1\n",
        "    class_label = class_label.dropna().astype(int)\n",
        "    return pd.get_dummies(class_label, columns=['short', 'neutral', 'long']).astype(int)\n",
        "\n",
        "make_class(night_train_chunk.label, 1.0000).mean()"
      ]
    },
    {
      "cell_type": "code",
      "execution_count": null,
      "metadata": {
        "id": "zGJ8ZxeemQv8"
      },
      "outputs": [],
      "source": [
        "X_list = []\n",
        "y_list = []\n",
        "\n",
        "epsilon=1.0000\n",
        "\n",
        "for i, chunk in enumerate([morning_train_chunk, afternoon_train_chunk, night_train_chunk]):\n",
        "    X = chunk.lob.loc[:, hp.features]\n",
        "    y = make_class(chunk.label, epsilon)\n",
        "    X = X.reindex(y.index)\n",
        "    y = y.reindex(X.index)\n",
        "    X_list.append(X)\n",
        "    y_list.append(y)\n",
        "\n",
        "scaler = StandardScaler()\n",
        "scaler.fit(pd.concat(X_list));"
      ]
    },
    {
      "cell_type": "code",
      "execution_count": null,
      "metadata": {
        "id": "xh45aioqmQv8",
        "outputId": "78a0effe-e22e-42b5-fa21-a6169082a3fc",
        "colab": {
          "base_uri": "https://localhost:8080/"
        }
      },
      "outputs": [
        {
          "output_type": "stream",
          "name": "stdout",
          "text": [
            "228842\n",
            "132460\n",
            "519114\n",
            "880416\n"
          ]
        }
      ],
      "source": [
        "print(morning_train_chunk.label.dropna().shape[0])\n",
        "print(afternoon_train_chunk.label.dropna().shape[0])\n",
        "print(night_train_chunk.label.dropna().shape[0])\n",
        "print(morning_train_chunk.label.dropna().shape[0] + afternoon_train_chunk.label.dropna().shape[0] + night_train_chunk.label.dropna().shape[0])"
      ]
    },
    {
      "cell_type": "code",
      "execution_count": null,
      "metadata": {
        "id": "cSim098umQv8"
      },
      "outputs": [],
      "source": [
        "sp_generator_list = []\n",
        "\n",
        "for i, chunk in enumerate([morning_train_chunk, afternoon_train_chunk, night_train_chunk]):\n",
        "\n",
        "    X = chunk.lob.loc[:, hp.features]\n",
        "    X = pd.DataFrame(scaler.transform(X), index=X.index, columns=X.columns)\n",
        "    y = make_class(chunk.label, epsilon)\n",
        "    X = X.reindex(y.index)\n",
        "    y = y.reindex(X.index)\n",
        "    #transform y here\n",
        "\n",
        "    sp_generator : List[stride_data.SequencePair] = stride_data.create_train_val_sequence_cv(\n",
        "        X, y, cv=hp.cv, lookback=hp.lookback, \n",
        "        batch_size=hp.batch_size, batch_no=hp.batch_no[i], \n",
        "        shuffle=hp.shuffle, trim=hp.trim, replace=hp.replace)\n",
        "\n",
        "    sp_generator_list.append(sp_generator)\n"
      ]
    },
    {
      "cell_type": "code",
      "execution_count": null,
      "metadata": {
        "id": "es6WmHGOmQv8"
      },
      "outputs": [],
      "source": [
        "wf_sequence_list = []\n",
        "for i, chunk in enumerate([morning_wf_chunk, afternoon_wf_chunk, night_wf_chunk]):\n",
        "\n",
        "    X = chunk.lob.loc[:, hp.features]\n",
        "    X = pd.DataFrame(scaler.transform(X), index=X.index, columns=X.columns)\n",
        "    y = make_class(chunk.label, epsilon)\n",
        "    X = X.reindex(y.index)\n",
        "    y = y.reindex(X.index)\n",
        "    #transform y here\n",
        "\n",
        "    wf_sequence : stride_data.StrideData = stride_data.StrideData(X, y, lookback=hp.lookback, \n",
        "                                            batch_size=y.shape[0] - hp.lookback, batch_no=None, \n",
        "                                            shuffle=False, replace=False)\n",
        "\n",
        "    wf_sequence_list.append(wf_sequence)"
      ]
    },
    {
      "cell_type": "code",
      "execution_count": null,
      "metadata": {
        "id": "LTGJzGxcmQv9",
        "outputId": "160fa840-637b-453d-852d-9291d333ee72",
        "colab": {
          "base_uri": "https://localhost:8080/",
          "height": 884
        }
      },
      "outputs": [
        {
          "output_type": "stream",
          "name": "stdout",
          "text": [
            "running cv0\n",
            "Epoch 1/100\n",
            "5153/5153 [==============================] - 109s 18ms/step - loss: 0.1002 - val_loss: 0.0956\n",
            "Epoch 2/100\n",
            "5153/5153 [==============================] - 89s 17ms/step - loss: 0.0980 - val_loss: 0.0998\n",
            "Epoch 3/100\n",
            "5153/5153 [==============================] - 90s 17ms/step - loss: 0.0938 - val_loss: 0.1019\n",
            "Epoch 4/100\n",
            "5153/5153 [==============================] - 89s 17ms/step - loss: 0.0886 - val_loss: 0.1124\n",
            "Epoch 5/100\n",
            "5153/5153 [==============================] - 89s 17ms/step - loss: 0.0838 - val_loss: 0.1251\n",
            "Epoch 6/100\n",
            "5153/5153 [==============================] - 88s 17ms/step - loss: 0.0788 - val_loss: 0.1298\n",
            "Epoch 7/100\n",
            "5153/5153 [==============================] - 89s 17ms/step - loss: 0.0737 - val_loss: 0.1360\n",
            "Epoch 8/100\n",
            "5153/5153 [==============================] - 89s 17ms/step - loss: 0.0687 - val_loss: 0.1525\n",
            "Epoch 9/100\n",
            "5153/5153 [==============================] - 88s 17ms/step - loss: 0.0636 - val_loss: 0.1637\n",
            "Epoch 10/100\n",
            "5153/5153 [==============================] - 88s 17ms/step - loss: 0.0592 - val_loss: 0.1695\n",
            "Epoch 11/100\n",
            "5153/5153 [==============================] - 88s 17ms/step - loss: 0.0549 - val_loss: 0.1837\n",
            "Epoch 12/100\n",
            "5153/5153 [==============================] - 88s 17ms/step - loss: 0.0510 - val_loss: 0.1988\n",
            "Epoch 13/100\n",
            "5153/5153 [==============================] - 88s 17ms/step - loss: 0.0473 - val_loss: 0.2091\n",
            "Epoch 14/100\n",
            "4244/5153 [=======================>......] - ETA: 11s - loss: 0.0438"
          ]
        },
        {
          "output_type": "error",
          "ename": "KeyboardInterrupt",
          "evalue": "ignored",
          "traceback": [
            "\u001b[0;31m---------------------------------------------------------------------------\u001b[0m",
            "\u001b[0;31mKeyboardInterrupt\u001b[0m                         Traceback (most recent call last)",
            "\u001b[0;32m<ipython-input-30-0d82c1931a7c>\u001b[0m in \u001b[0;36m<cell line: 13>\u001b[0;34m()\u001b[0m\n\u001b[1;32m     40\u001b[0m     \u001b[0mmodel\u001b[0m\u001b[0;34m.\u001b[0m\u001b[0mcompile\u001b[0m\u001b[0;34m(\u001b[0m\u001b[0mloss\u001b[0m\u001b[0;34m=\u001b[0m\u001b[0mloss_dict\u001b[0m\u001b[0;34m[\u001b[0m\u001b[0mhp\u001b[0m\u001b[0;34m.\u001b[0m\u001b[0mloss\u001b[0m\u001b[0;34m]\u001b[0m\u001b[0;34m,\u001b[0m \u001b[0moptimizer\u001b[0m\u001b[0;34m=\u001b[0m\u001b[0mopt\u001b[0m\u001b[0;34m,\u001b[0m \u001b[0mmetrics\u001b[0m\u001b[0;34m=\u001b[0m\u001b[0;34m[\u001b[0m\u001b[0;34m]\u001b[0m\u001b[0;34m,\u001b[0m \u001b[0mweighted_metrics\u001b[0m\u001b[0;34m=\u001b[0m\u001b[0;34m[\u001b[0m\u001b[0;34m]\u001b[0m\u001b[0;34m)\u001b[0m\u001b[0;34m\u001b[0m\u001b[0;34m\u001b[0m\u001b[0m\n\u001b[1;32m     41\u001b[0m     \u001b[0;31m# with tf.device('/cpu:0'):\u001b[0m\u001b[0;34m\u001b[0m\u001b[0;34m\u001b[0m\u001b[0m\n\u001b[0;32m---> 42\u001b[0;31m     model.fit(x=sq,\n\u001b[0m\u001b[1;32m     43\u001b[0m             \u001b[0muse_multiprocessing\u001b[0m\u001b[0;34m=\u001b[0m\u001b[0;32mFalse\u001b[0m\u001b[0;34m,\u001b[0m\u001b[0;34m\u001b[0m\u001b[0;34m\u001b[0m\u001b[0m\n\u001b[1;32m     44\u001b[0m             \u001b[0mvalidation_data\u001b[0m\u001b[0;34m=\u001b[0m\u001b[0mtest_tuple\u001b[0m\u001b[0;34m,\u001b[0m\u001b[0;34m\u001b[0m\u001b[0;34m\u001b[0m\u001b[0m\n",
            "\u001b[0;32m/usr/local/lib/python3.10/dist-packages/keras/src/utils/traceback_utils.py\u001b[0m in \u001b[0;36merror_handler\u001b[0;34m(*args, **kwargs)\u001b[0m\n\u001b[1;32m     63\u001b[0m         \u001b[0mfiltered_tb\u001b[0m \u001b[0;34m=\u001b[0m \u001b[0;32mNone\u001b[0m\u001b[0;34m\u001b[0m\u001b[0;34m\u001b[0m\u001b[0m\n\u001b[1;32m     64\u001b[0m         \u001b[0;32mtry\u001b[0m\u001b[0;34m:\u001b[0m\u001b[0;34m\u001b[0m\u001b[0;34m\u001b[0m\u001b[0m\n\u001b[0;32m---> 65\u001b[0;31m             \u001b[0;32mreturn\u001b[0m \u001b[0mfn\u001b[0m\u001b[0;34m(\u001b[0m\u001b[0;34m*\u001b[0m\u001b[0margs\u001b[0m\u001b[0;34m,\u001b[0m \u001b[0;34m**\u001b[0m\u001b[0mkwargs\u001b[0m\u001b[0;34m)\u001b[0m\u001b[0;34m\u001b[0m\u001b[0;34m\u001b[0m\u001b[0m\n\u001b[0m\u001b[1;32m     66\u001b[0m         \u001b[0;32mexcept\u001b[0m \u001b[0mException\u001b[0m \u001b[0;32mas\u001b[0m \u001b[0me\u001b[0m\u001b[0;34m:\u001b[0m\u001b[0;34m\u001b[0m\u001b[0;34m\u001b[0m\u001b[0m\n\u001b[1;32m     67\u001b[0m             \u001b[0mfiltered_tb\u001b[0m \u001b[0;34m=\u001b[0m \u001b[0m_process_traceback_frames\u001b[0m\u001b[0;34m(\u001b[0m\u001b[0me\u001b[0m\u001b[0;34m.\u001b[0m\u001b[0m__traceback__\u001b[0m\u001b[0;34m)\u001b[0m\u001b[0;34m\u001b[0m\u001b[0;34m\u001b[0m\u001b[0m\n",
            "\u001b[0;32m/usr/local/lib/python3.10/dist-packages/keras/src/engine/training.py\u001b[0m in \u001b[0;36mfit\u001b[0;34m(self, x, y, batch_size, epochs, verbose, callbacks, validation_split, validation_data, shuffle, class_weight, sample_weight, initial_epoch, steps_per_epoch, validation_steps, validation_batch_size, validation_freq, max_queue_size, workers, use_multiprocessing)\u001b[0m\n\u001b[1;32m   1788\u001b[0m                         ):\n\u001b[1;32m   1789\u001b[0m                             \u001b[0mcallbacks\u001b[0m\u001b[0;34m.\u001b[0m\u001b[0mon_train_batch_begin\u001b[0m\u001b[0;34m(\u001b[0m\u001b[0mstep\u001b[0m\u001b[0;34m)\u001b[0m\u001b[0;34m\u001b[0m\u001b[0;34m\u001b[0m\u001b[0m\n\u001b[0;32m-> 1790\u001b[0;31m                             \u001b[0mtmp_logs\u001b[0m \u001b[0;34m=\u001b[0m \u001b[0mself\u001b[0m\u001b[0;34m.\u001b[0m\u001b[0mtrain_function\u001b[0m\u001b[0;34m(\u001b[0m\u001b[0miterator\u001b[0m\u001b[0;34m)\u001b[0m\u001b[0;34m\u001b[0m\u001b[0;34m\u001b[0m\u001b[0m\n\u001b[0m\u001b[1;32m   1791\u001b[0m                             \u001b[0;32mif\u001b[0m \u001b[0mdata_handler\u001b[0m\u001b[0;34m.\u001b[0m\u001b[0mshould_sync\u001b[0m\u001b[0;34m:\u001b[0m\u001b[0;34m\u001b[0m\u001b[0;34m\u001b[0m\u001b[0m\n\u001b[1;32m   1792\u001b[0m                                 \u001b[0mcontext\u001b[0m\u001b[0;34m.\u001b[0m\u001b[0masync_wait\u001b[0m\u001b[0;34m(\u001b[0m\u001b[0;34m)\u001b[0m\u001b[0;34m\u001b[0m\u001b[0;34m\u001b[0m\u001b[0m\n",
            "\u001b[0;32m/usr/local/lib/python3.10/dist-packages/tensorflow/python/util/traceback_utils.py\u001b[0m in \u001b[0;36merror_handler\u001b[0;34m(*args, **kwargs)\u001b[0m\n\u001b[1;32m    148\u001b[0m     \u001b[0mfiltered_tb\u001b[0m \u001b[0;34m=\u001b[0m \u001b[0;32mNone\u001b[0m\u001b[0;34m\u001b[0m\u001b[0;34m\u001b[0m\u001b[0m\n\u001b[1;32m    149\u001b[0m     \u001b[0;32mtry\u001b[0m\u001b[0;34m:\u001b[0m\u001b[0;34m\u001b[0m\u001b[0;34m\u001b[0m\u001b[0m\n\u001b[0;32m--> 150\u001b[0;31m       \u001b[0;32mreturn\u001b[0m \u001b[0mfn\u001b[0m\u001b[0;34m(\u001b[0m\u001b[0;34m*\u001b[0m\u001b[0margs\u001b[0m\u001b[0;34m,\u001b[0m \u001b[0;34m**\u001b[0m\u001b[0mkwargs\u001b[0m\u001b[0;34m)\u001b[0m\u001b[0;34m\u001b[0m\u001b[0;34m\u001b[0m\u001b[0m\n\u001b[0m\u001b[1;32m    151\u001b[0m     \u001b[0;32mexcept\u001b[0m \u001b[0mException\u001b[0m \u001b[0;32mas\u001b[0m \u001b[0me\u001b[0m\u001b[0;34m:\u001b[0m\u001b[0;34m\u001b[0m\u001b[0;34m\u001b[0m\u001b[0m\n\u001b[1;32m    152\u001b[0m       \u001b[0mfiltered_tb\u001b[0m \u001b[0;34m=\u001b[0m \u001b[0m_process_traceback_frames\u001b[0m\u001b[0;34m(\u001b[0m\u001b[0me\u001b[0m\u001b[0;34m.\u001b[0m\u001b[0m__traceback__\u001b[0m\u001b[0;34m)\u001b[0m\u001b[0;34m\u001b[0m\u001b[0;34m\u001b[0m\u001b[0m\n",
            "\u001b[0;32m/usr/local/lib/python3.10/dist-packages/tensorflow/python/eager/polymorphic_function/polymorphic_function.py\u001b[0m in \u001b[0;36m__call__\u001b[0;34m(self, *args, **kwds)\u001b[0m\n\u001b[1;32m    818\u001b[0m \u001b[0;34m\u001b[0m\u001b[0m\n\u001b[1;32m    819\u001b[0m       \u001b[0;32mwith\u001b[0m \u001b[0mOptionalXlaContext\u001b[0m\u001b[0;34m(\u001b[0m\u001b[0mself\u001b[0m\u001b[0;34m.\u001b[0m\u001b[0m_jit_compile\u001b[0m\u001b[0;34m)\u001b[0m\u001b[0;34m:\u001b[0m\u001b[0;34m\u001b[0m\u001b[0;34m\u001b[0m\u001b[0m\n\u001b[0;32m--> 820\u001b[0;31m         \u001b[0mresult\u001b[0m \u001b[0;34m=\u001b[0m \u001b[0mself\u001b[0m\u001b[0;34m.\u001b[0m\u001b[0m_call\u001b[0m\u001b[0;34m(\u001b[0m\u001b[0;34m*\u001b[0m\u001b[0margs\u001b[0m\u001b[0;34m,\u001b[0m \u001b[0;34m**\u001b[0m\u001b[0mkwds\u001b[0m\u001b[0;34m)\u001b[0m\u001b[0;34m\u001b[0m\u001b[0;34m\u001b[0m\u001b[0m\n\u001b[0m\u001b[1;32m    821\u001b[0m \u001b[0;34m\u001b[0m\u001b[0m\n\u001b[1;32m    822\u001b[0m       \u001b[0mnew_tracing_count\u001b[0m \u001b[0;34m=\u001b[0m \u001b[0mself\u001b[0m\u001b[0;34m.\u001b[0m\u001b[0mexperimental_get_tracing_count\u001b[0m\u001b[0;34m(\u001b[0m\u001b[0;34m)\u001b[0m\u001b[0;34m\u001b[0m\u001b[0;34m\u001b[0m\u001b[0m\n",
            "\u001b[0;32m/usr/local/lib/python3.10/dist-packages/tensorflow/python/eager/polymorphic_function/polymorphic_function.py\u001b[0m in \u001b[0;36m_call\u001b[0;34m(self, *args, **kwds)\u001b[0m\n\u001b[1;32m    846\u001b[0m       \u001b[0;31m# In this case we have created variables on the first call, so we run the\u001b[0m\u001b[0;34m\u001b[0m\u001b[0;34m\u001b[0m\u001b[0m\n\u001b[1;32m    847\u001b[0m       \u001b[0;31m# defunned version which is guaranteed to never create variables.\u001b[0m\u001b[0;34m\u001b[0m\u001b[0;34m\u001b[0m\u001b[0m\n\u001b[0;32m--> 848\u001b[0;31m       \u001b[0;32mreturn\u001b[0m \u001b[0mself\u001b[0m\u001b[0;34m.\u001b[0m\u001b[0m_no_variable_creation_fn\u001b[0m\u001b[0;34m(\u001b[0m\u001b[0;34m*\u001b[0m\u001b[0margs\u001b[0m\u001b[0;34m,\u001b[0m \u001b[0;34m**\u001b[0m\u001b[0mkwds\u001b[0m\u001b[0;34m)\u001b[0m  \u001b[0;31m# pylint: disable=not-callable\u001b[0m\u001b[0;34m\u001b[0m\u001b[0;34m\u001b[0m\u001b[0m\n\u001b[0m\u001b[1;32m    849\u001b[0m     \u001b[0;32melif\u001b[0m \u001b[0mself\u001b[0m\u001b[0;34m.\u001b[0m\u001b[0m_variable_creation_fn\u001b[0m \u001b[0;32mis\u001b[0m \u001b[0;32mnot\u001b[0m \u001b[0;32mNone\u001b[0m\u001b[0;34m:\u001b[0m\u001b[0;34m\u001b[0m\u001b[0;34m\u001b[0m\u001b[0m\n\u001b[1;32m    850\u001b[0m       \u001b[0;31m# Release the lock early so that multiple threads can perform the call\u001b[0m\u001b[0;34m\u001b[0m\u001b[0;34m\u001b[0m\u001b[0m\n",
            "\u001b[0;32m/usr/local/lib/python3.10/dist-packages/tensorflow/python/eager/polymorphic_function/tracing_compiler.py\u001b[0m in \u001b[0;36m__call__\u001b[0;34m(self, *args, **kwargs)\u001b[0m\n\u001b[1;32m    130\u001b[0m           \u001b[0margs\u001b[0m\u001b[0;34m,\u001b[0m \u001b[0mkwargs\u001b[0m\u001b[0;34m\u001b[0m\u001b[0;34m\u001b[0m\u001b[0m\n\u001b[1;32m    131\u001b[0m       )\n\u001b[0;32m--> 132\u001b[0;31m     return concrete_function._call_flat(\n\u001b[0m\u001b[1;32m    133\u001b[0m         \u001b[0mfiltered_flat_args\u001b[0m\u001b[0;34m,\u001b[0m \u001b[0mcaptured_inputs\u001b[0m\u001b[0;34m=\u001b[0m\u001b[0mconcrete_function\u001b[0m\u001b[0;34m.\u001b[0m\u001b[0mcaptured_inputs\u001b[0m\u001b[0;34m\u001b[0m\u001b[0;34m\u001b[0m\u001b[0m\n\u001b[1;32m    134\u001b[0m     )  # pylint: disable=protected-access\n",
            "\u001b[0;32m/usr/local/lib/python3.10/dist-packages/tensorflow/python/eager/polymorphic_function/concrete_function.py\u001b[0m in \u001b[0;36m_call_flat\u001b[0;34m(self, args, captured_inputs)\u001b[0m\n\u001b[1;32m   1366\u001b[0m         and executing_eagerly):\n\u001b[1;32m   1367\u001b[0m       \u001b[0;31m# No tape is watching; skip to running the function.\u001b[0m\u001b[0;34m\u001b[0m\u001b[0;34m\u001b[0m\u001b[0m\n\u001b[0;32m-> 1368\u001b[0;31m       \u001b[0;32mreturn\u001b[0m \u001b[0mself\u001b[0m\u001b[0;34m.\u001b[0m\u001b[0m_build_call_outputs\u001b[0m\u001b[0;34m(\u001b[0m\u001b[0mself\u001b[0m\u001b[0;34m.\u001b[0m\u001b[0m_inference_function\u001b[0m\u001b[0;34m(\u001b[0m\u001b[0;34m*\u001b[0m\u001b[0margs\u001b[0m\u001b[0;34m)\u001b[0m\u001b[0;34m)\u001b[0m\u001b[0;34m\u001b[0m\u001b[0;34m\u001b[0m\u001b[0m\n\u001b[0m\u001b[1;32m   1369\u001b[0m     forward_backward = self._select_forward_and_backward_functions(\n\u001b[1;32m   1370\u001b[0m         \u001b[0margs\u001b[0m\u001b[0;34m,\u001b[0m\u001b[0;34m\u001b[0m\u001b[0;34m\u001b[0m\u001b[0m\n",
            "\u001b[0;32m/usr/local/lib/python3.10/dist-packages/tensorflow/python/eager/polymorphic_function/atomic_function.py\u001b[0m in \u001b[0;36m__call__\u001b[0;34m(self, *args)\u001b[0m\n\u001b[1;32m    220\u001b[0m         \u001b[0;32mwith\u001b[0m \u001b[0mrecord\u001b[0m\u001b[0;34m.\u001b[0m\u001b[0mstop_recording\u001b[0m\u001b[0;34m(\u001b[0m\u001b[0;34m)\u001b[0m\u001b[0;34m:\u001b[0m\u001b[0;34m\u001b[0m\u001b[0;34m\u001b[0m\u001b[0m\n\u001b[1;32m    221\u001b[0m           \u001b[0;32mif\u001b[0m \u001b[0mself\u001b[0m\u001b[0;34m.\u001b[0m\u001b[0m_bound_context\u001b[0m\u001b[0;34m.\u001b[0m\u001b[0mexecuting_eagerly\u001b[0m\u001b[0;34m(\u001b[0m\u001b[0;34m)\u001b[0m\u001b[0;34m:\u001b[0m\u001b[0;34m\u001b[0m\u001b[0;34m\u001b[0m\u001b[0m\n\u001b[0;32m--> 222\u001b[0;31m             outputs = self._bound_context.call_function(\n\u001b[0m\u001b[1;32m    223\u001b[0m                 \u001b[0mself\u001b[0m\u001b[0;34m.\u001b[0m\u001b[0mname\u001b[0m\u001b[0;34m,\u001b[0m\u001b[0;34m\u001b[0m\u001b[0;34m\u001b[0m\u001b[0m\n\u001b[1;32m    224\u001b[0m                 \u001b[0mlist\u001b[0m\u001b[0;34m(\u001b[0m\u001b[0margs\u001b[0m\u001b[0;34m)\u001b[0m\u001b[0;34m,\u001b[0m\u001b[0;34m\u001b[0m\u001b[0;34m\u001b[0m\u001b[0m\n",
            "\u001b[0;32m/usr/local/lib/python3.10/dist-packages/tensorflow/python/eager/context.py\u001b[0m in \u001b[0;36mcall_function\u001b[0;34m(self, name, tensor_inputs, num_outputs)\u001b[0m\n\u001b[1;32m   1477\u001b[0m     \u001b[0mcancellation_context\u001b[0m \u001b[0;34m=\u001b[0m \u001b[0mcancellation\u001b[0m\u001b[0;34m.\u001b[0m\u001b[0mcontext\u001b[0m\u001b[0;34m(\u001b[0m\u001b[0;34m)\u001b[0m\u001b[0;34m\u001b[0m\u001b[0;34m\u001b[0m\u001b[0m\n\u001b[1;32m   1478\u001b[0m     \u001b[0;32mif\u001b[0m \u001b[0mcancellation_context\u001b[0m \u001b[0;32mis\u001b[0m \u001b[0;32mNone\u001b[0m\u001b[0;34m:\u001b[0m\u001b[0;34m\u001b[0m\u001b[0;34m\u001b[0m\u001b[0m\n\u001b[0;32m-> 1479\u001b[0;31m       outputs = execute.execute(\n\u001b[0m\u001b[1;32m   1480\u001b[0m           \u001b[0mname\u001b[0m\u001b[0;34m.\u001b[0m\u001b[0mdecode\u001b[0m\u001b[0;34m(\u001b[0m\u001b[0;34m\"utf-8\"\u001b[0m\u001b[0;34m)\u001b[0m\u001b[0;34m,\u001b[0m\u001b[0;34m\u001b[0m\u001b[0;34m\u001b[0m\u001b[0m\n\u001b[1;32m   1481\u001b[0m           \u001b[0mnum_outputs\u001b[0m\u001b[0;34m=\u001b[0m\u001b[0mnum_outputs\u001b[0m\u001b[0;34m,\u001b[0m\u001b[0;34m\u001b[0m\u001b[0;34m\u001b[0m\u001b[0m\n",
            "\u001b[0;32m/usr/local/lib/python3.10/dist-packages/tensorflow/python/eager/execute.py\u001b[0m in \u001b[0;36mquick_execute\u001b[0;34m(op_name, num_outputs, inputs, attrs, ctx, name)\u001b[0m\n\u001b[1;32m     51\u001b[0m   \u001b[0;32mtry\u001b[0m\u001b[0;34m:\u001b[0m\u001b[0;34m\u001b[0m\u001b[0;34m\u001b[0m\u001b[0m\n\u001b[1;32m     52\u001b[0m     \u001b[0mctx\u001b[0m\u001b[0;34m.\u001b[0m\u001b[0mensure_initialized\u001b[0m\u001b[0;34m(\u001b[0m\u001b[0;34m)\u001b[0m\u001b[0;34m\u001b[0m\u001b[0;34m\u001b[0m\u001b[0m\n\u001b[0;32m---> 53\u001b[0;31m     tensors = pywrap_tfe.TFE_Py_Execute(ctx._handle, device_name, op_name,\n\u001b[0m\u001b[1;32m     54\u001b[0m                                         inputs, attrs, num_outputs)\n\u001b[1;32m     55\u001b[0m   \u001b[0;32mexcept\u001b[0m \u001b[0mcore\u001b[0m\u001b[0;34m.\u001b[0m\u001b[0m_NotOkStatusException\u001b[0m \u001b[0;32mas\u001b[0m \u001b[0me\u001b[0m\u001b[0;34m:\u001b[0m\u001b[0;34m\u001b[0m\u001b[0;34m\u001b[0m\u001b[0m\n",
            "\u001b[0;31mKeyboardInterrupt\u001b[0m: "
          ]
        }
      ],
      "source": [
        "early_stopper = tf.keras.callbacks.EarlyStopping(\n",
        "    monitor=\"val_loss\",\n",
        "    min_delta=0,\n",
        "    patience=15,\n",
        "    verbose=1,\n",
        "    mode=\"auto\",\n",
        "    baseline=None,\n",
        "    restore_best_weights=False,\n",
        ")\n",
        "\n",
        "model_list = []\n",
        "\n",
        "for cv_count in range(hp.cv):\n",
        "    sp_list = [next(sp_gen) for sp_gen in sp_generator_list]\n",
        "    sq = stride_data.CombinedSequence(*[sp.train_sequence for sp in sp_list], shuffle=hp.shuffle, seed=hp.seed, replace=hp.replace)\n",
        "    test_tuple = np.vstack([sp.test_tuple[0] for sp in sp_list]), np.vstack([sp.test_tuple[1] for sp in sp_list])\n",
        "\n",
        "    print('running cv' + str(cv_count))\n",
        "    csv_logger = CSVLogger(fr'{base_output_folder}\\callback_logs\\{run_prefix}\\_temp\\{run_prefix}_{cv_count}.csv')\n",
        "    lr_schedule = tf.keras.optimizers.schedules.ExponentialDecay(\n",
        "        initial_learning_rate=hp.init_learning_rate,\n",
        "        decay_steps=hp.decay_steps,\n",
        "        decay_rate=hp.lr_decay)\n",
        "    try:\n",
        "        opt = opt_dict[hp.opt](learning_rate=lr_schedule)\n",
        "    except Exception:\n",
        "        print(f\"{hp.opt} does not work with scheduler\")\n",
        "        opt = opt_dict[hp.opt](learning_rate=hp.init_learning_rate)\n",
        "\n",
        "    # model = tf.keras.Sequential()\n",
        "    # for l, p in schematic_dict[hp.schematic]:\n",
        "    #     model.add(l(**p))\n",
        "        \n",
        "    # model.add(layers.Dense(3, activation='softmax')) # add output node\n",
        "\n",
        "    model_maker = model_maker_dict[hp.schematic]\n",
        "\n",
        "    model = model_maker(hp.lookback, len(hp.features), 16, 16)\n",
        "\n",
        "    model.compile(loss=loss_dict[hp.loss], optimizer=opt, metrics=[], weighted_metrics=[])\n",
        "    # with tf.device('/cpu:0'):\n",
        "    model.fit(x=sq,\n",
        "            use_multiprocessing=False,\n",
        "            validation_data=test_tuple,\n",
        "            epochs=hp.epochs,\n",
        "            verbose=1,\n",
        "            callbacks=[csv_logger, early_stopper])\n",
        "    \n",
        "    model_list.append(model)"
      ]
    },
    {
      "cell_type": "code",
      "execution_count": null,
      "metadata": {
        "id": "Xt0VhHFtmQv9",
        "colab": {
          "base_uri": "https://localhost:8080/"
        },
        "outputId": "7fd39d06-324c-4ffd-bf77-c79b03ae9868"
      },
      "outputs": [
        {
          "output_type": "stream",
          "name": "stdout",
          "text": [
            "1094/1094 [==============================] - 5s 4ms/step\n"
          ]
        }
      ],
      "source": [
        "model\n",
        "\n",
        "output = model.predict(wf_sequence_list[0][0][0])"
      ]
    },
    {
      "cell_type": "code",
      "execution_count": null,
      "metadata": {
        "id": "8_5LauzCmQv9"
      },
      "outputs": [],
      "source": [
        "true_df = pd.DataFrame(wf_sequence_list[0][0][1], columns=['true_short','true_neutral','true_long'])"
      ]
    },
    {
      "cell_type": "code",
      "execution_count": null,
      "metadata": {
        "id": "EeMsVhrjmQv9",
        "colab": {
          "base_uri": "https://localhost:8080/",
          "height": 423
        },
        "outputId": "28b62912-753f-4cd7-ecec-d597fa50a6db"
      },
      "outputs": [
        {
          "output_type": "execute_result",
          "data": {
            "text/plain": [
              "          short   neutral      long  true_short  true_neutral  true_long\n",
              "0      0.003413  0.427331  0.569256           0             1          0\n",
              "1      0.000202  0.303920  0.695878           1             0          0\n",
              "2      0.000226  0.337788  0.661986           1             0          0\n",
              "3      0.000563  0.335852  0.663585           1             0          0\n",
              "4      0.005741  0.506746  0.487513           1             0          0\n",
              "...         ...       ...       ...         ...           ...        ...\n",
              "34990  0.226024  0.747509  0.026467           0             0          1\n",
              "34991  0.338429  0.647026  0.014546           0             0          1\n",
              "34992  0.466474  0.525126  0.008400           0             0          1\n",
              "34993  0.463313  0.514097  0.022590           0             1          0\n",
              "34994  0.544926  0.454379  0.000695           0             1          0\n",
              "\n",
              "[34995 rows x 6 columns]"
            ],
            "text/html": [
              "\n",
              "  <div id=\"df-6bb1f15e-9880-4dbd-99b6-729717947000\">\n",
              "    <div class=\"colab-df-container\">\n",
              "      <div>\n",
              "<style scoped>\n",
              "    .dataframe tbody tr th:only-of-type {\n",
              "        vertical-align: middle;\n",
              "    }\n",
              "\n",
              "    .dataframe tbody tr th {\n",
              "        vertical-align: top;\n",
              "    }\n",
              "\n",
              "    .dataframe thead th {\n",
              "        text-align: right;\n",
              "    }\n",
              "</style>\n",
              "<table border=\"1\" class=\"dataframe\">\n",
              "  <thead>\n",
              "    <tr style=\"text-align: right;\">\n",
              "      <th></th>\n",
              "      <th>short</th>\n",
              "      <th>neutral</th>\n",
              "      <th>long</th>\n",
              "      <th>true_short</th>\n",
              "      <th>true_neutral</th>\n",
              "      <th>true_long</th>\n",
              "    </tr>\n",
              "  </thead>\n",
              "  <tbody>\n",
              "    <tr>\n",
              "      <th>0</th>\n",
              "      <td>0.003413</td>\n",
              "      <td>0.427331</td>\n",
              "      <td>0.569256</td>\n",
              "      <td>0</td>\n",
              "      <td>1</td>\n",
              "      <td>0</td>\n",
              "    </tr>\n",
              "    <tr>\n",
              "      <th>1</th>\n",
              "      <td>0.000202</td>\n",
              "      <td>0.303920</td>\n",
              "      <td>0.695878</td>\n",
              "      <td>1</td>\n",
              "      <td>0</td>\n",
              "      <td>0</td>\n",
              "    </tr>\n",
              "    <tr>\n",
              "      <th>2</th>\n",
              "      <td>0.000226</td>\n",
              "      <td>0.337788</td>\n",
              "      <td>0.661986</td>\n",
              "      <td>1</td>\n",
              "      <td>0</td>\n",
              "      <td>0</td>\n",
              "    </tr>\n",
              "    <tr>\n",
              "      <th>3</th>\n",
              "      <td>0.000563</td>\n",
              "      <td>0.335852</td>\n",
              "      <td>0.663585</td>\n",
              "      <td>1</td>\n",
              "      <td>0</td>\n",
              "      <td>0</td>\n",
              "    </tr>\n",
              "    <tr>\n",
              "      <th>4</th>\n",
              "      <td>0.005741</td>\n",
              "      <td>0.506746</td>\n",
              "      <td>0.487513</td>\n",
              "      <td>1</td>\n",
              "      <td>0</td>\n",
              "      <td>0</td>\n",
              "    </tr>\n",
              "    <tr>\n",
              "      <th>...</th>\n",
              "      <td>...</td>\n",
              "      <td>...</td>\n",
              "      <td>...</td>\n",
              "      <td>...</td>\n",
              "      <td>...</td>\n",
              "      <td>...</td>\n",
              "    </tr>\n",
              "    <tr>\n",
              "      <th>34990</th>\n",
              "      <td>0.226024</td>\n",
              "      <td>0.747509</td>\n",
              "      <td>0.026467</td>\n",
              "      <td>0</td>\n",
              "      <td>0</td>\n",
              "      <td>1</td>\n",
              "    </tr>\n",
              "    <tr>\n",
              "      <th>34991</th>\n",
              "      <td>0.338429</td>\n",
              "      <td>0.647026</td>\n",
              "      <td>0.014546</td>\n",
              "      <td>0</td>\n",
              "      <td>0</td>\n",
              "      <td>1</td>\n",
              "    </tr>\n",
              "    <tr>\n",
              "      <th>34992</th>\n",
              "      <td>0.466474</td>\n",
              "      <td>0.525126</td>\n",
              "      <td>0.008400</td>\n",
              "      <td>0</td>\n",
              "      <td>0</td>\n",
              "      <td>1</td>\n",
              "    </tr>\n",
              "    <tr>\n",
              "      <th>34993</th>\n",
              "      <td>0.463313</td>\n",
              "      <td>0.514097</td>\n",
              "      <td>0.022590</td>\n",
              "      <td>0</td>\n",
              "      <td>1</td>\n",
              "      <td>0</td>\n",
              "    </tr>\n",
              "    <tr>\n",
              "      <th>34994</th>\n",
              "      <td>0.544926</td>\n",
              "      <td>0.454379</td>\n",
              "      <td>0.000695</td>\n",
              "      <td>0</td>\n",
              "      <td>1</td>\n",
              "      <td>0</td>\n",
              "    </tr>\n",
              "  </tbody>\n",
              "</table>\n",
              "<p>34995 rows × 6 columns</p>\n",
              "</div>\n",
              "      <button class=\"colab-df-convert\" onclick=\"convertToInteractive('df-6bb1f15e-9880-4dbd-99b6-729717947000')\"\n",
              "              title=\"Convert this dataframe to an interactive table.\"\n",
              "              style=\"display:none;\">\n",
              "        \n",
              "  <svg xmlns=\"http://www.w3.org/2000/svg\" height=\"24px\"viewBox=\"0 0 24 24\"\n",
              "       width=\"24px\">\n",
              "    <path d=\"M0 0h24v24H0V0z\" fill=\"none\"/>\n",
              "    <path d=\"M18.56 5.44l.94 2.06.94-2.06 2.06-.94-2.06-.94-.94-2.06-.94 2.06-2.06.94zm-11 1L8.5 8.5l.94-2.06 2.06-.94-2.06-.94L8.5 2.5l-.94 2.06-2.06.94zm10 10l.94 2.06.94-2.06 2.06-.94-2.06-.94-.94-2.06-.94 2.06-2.06.94z\"/><path d=\"M17.41 7.96l-1.37-1.37c-.4-.4-.92-.59-1.43-.59-.52 0-1.04.2-1.43.59L10.3 9.45l-7.72 7.72c-.78.78-.78 2.05 0 2.83L4 21.41c.39.39.9.59 1.41.59.51 0 1.02-.2 1.41-.59l7.78-7.78 2.81-2.81c.8-.78.8-2.07 0-2.86zM5.41 20L4 18.59l7.72-7.72 1.47 1.35L5.41 20z\"/>\n",
              "  </svg>\n",
              "      </button>\n",
              "      \n",
              "  <style>\n",
              "    .colab-df-container {\n",
              "      display:flex;\n",
              "      flex-wrap:wrap;\n",
              "      gap: 12px;\n",
              "    }\n",
              "\n",
              "    .colab-df-convert {\n",
              "      background-color: #E8F0FE;\n",
              "      border: none;\n",
              "      border-radius: 50%;\n",
              "      cursor: pointer;\n",
              "      display: none;\n",
              "      fill: #1967D2;\n",
              "      height: 32px;\n",
              "      padding: 0 0 0 0;\n",
              "      width: 32px;\n",
              "    }\n",
              "\n",
              "    .colab-df-convert:hover {\n",
              "      background-color: #E2EBFA;\n",
              "      box-shadow: 0px 1px 2px rgba(60, 64, 67, 0.3), 0px 1px 3px 1px rgba(60, 64, 67, 0.15);\n",
              "      fill: #174EA6;\n",
              "    }\n",
              "\n",
              "    [theme=dark] .colab-df-convert {\n",
              "      background-color: #3B4455;\n",
              "      fill: #D2E3FC;\n",
              "    }\n",
              "\n",
              "    [theme=dark] .colab-df-convert:hover {\n",
              "      background-color: #434B5C;\n",
              "      box-shadow: 0px 1px 3px 1px rgba(0, 0, 0, 0.15);\n",
              "      filter: drop-shadow(0px 1px 2px rgba(0, 0, 0, 0.3));\n",
              "      fill: #FFFFFF;\n",
              "    }\n",
              "  </style>\n",
              "\n",
              "      <script>\n",
              "        const buttonEl =\n",
              "          document.querySelector('#df-6bb1f15e-9880-4dbd-99b6-729717947000 button.colab-df-convert');\n",
              "        buttonEl.style.display =\n",
              "          google.colab.kernel.accessAllowed ? 'block' : 'none';\n",
              "\n",
              "        async function convertToInteractive(key) {\n",
              "          const element = document.querySelector('#df-6bb1f15e-9880-4dbd-99b6-729717947000');\n",
              "          const dataTable =\n",
              "            await google.colab.kernel.invokeFunction('convertToInteractive',\n",
              "                                                     [key], {});\n",
              "          if (!dataTable) return;\n",
              "\n",
              "          const docLinkHtml = 'Like what you see? Visit the ' +\n",
              "            '<a target=\"_blank\" href=https://colab.research.google.com/notebooks/data_table.ipynb>data table notebook</a>'\n",
              "            + ' to learn more about interactive tables.';\n",
              "          element.innerHTML = '';\n",
              "          dataTable['output_type'] = 'display_data';\n",
              "          await google.colab.output.renderOutput(dataTable, element);\n",
              "          const docLink = document.createElement('div');\n",
              "          docLink.innerHTML = docLinkHtml;\n",
              "          element.appendChild(docLink);\n",
              "        }\n",
              "      </script>\n",
              "    </div>\n",
              "  </div>\n",
              "  "
            ]
          },
          "metadata": {},
          "execution_count": 33
        }
      ],
      "source": [
        "predicted = pd.DataFrame(output, columns=['short','neutral','long']).join(true_df)\n",
        "predicted"
      ]
    },
    {
      "cell_type": "code",
      "source": [
        "predicted[predicted['short'] == predicted.iloc[:, :3].max(1)].iloc[:,3:].mean()"
      ],
      "metadata": {
        "id": "_Hd73d_dIuDV",
        "colab": {
          "base_uri": "https://localhost:8080/"
        },
        "outputId": "c6fed670-6533-43dd-9b17-3e58f9227a46"
      },
      "execution_count": null,
      "outputs": [
        {
          "output_type": "execute_result",
          "data": {
            "text/plain": [
              "true_short      0.170662\n",
              "true_neutral    0.612461\n",
              "true_long       0.216877\n",
              "dtype: float64"
            ]
          },
          "metadata": {},
          "execution_count": 34
        }
      ]
    },
    {
      "cell_type": "code",
      "source": [
        "predicted[predicted['neutral'] == predicted.iloc[:, :3].max(1)].iloc[:,3:].mean()"
      ],
      "metadata": {
        "id": "B1xIk_iXIsUo",
        "colab": {
          "base_uri": "https://localhost:8080/"
        },
        "outputId": "53c025da-0c1d-4612-8066-0416b90fd73f"
      },
      "execution_count": null,
      "outputs": [
        {
          "output_type": "execute_result",
          "data": {
            "text/plain": [
              "true_short      0.166731\n",
              "true_neutral    0.618162\n",
              "true_long       0.215107\n",
              "dtype: float64"
            ]
          },
          "metadata": {},
          "execution_count": 35
        }
      ]
    },
    {
      "cell_type": "code",
      "execution_count": null,
      "metadata": {
        "id": "oXUbhSeimQv9",
        "colab": {
          "base_uri": "https://localhost:8080/"
        },
        "outputId": "a72d95cb-4fe7-4a2e-d1ea-a598ffe050c3"
      },
      "outputs": [
        {
          "output_type": "execute_result",
          "data": {
            "text/plain": [
              "true_short      0.156348\n",
              "true_neutral    0.618360\n",
              "true_long       0.225292\n",
              "dtype: float64"
            ]
          },
          "metadata": {},
          "execution_count": 36
        }
      ],
      "source": [
        "predicted[predicted['long'] == predicted.iloc[:, :3].max(1)].iloc[:,3:].mean()"
      ]
    },
    {
      "cell_type": "code",
      "execution_count": null,
      "metadata": {
        "id": "49X1yOKMmQv9"
      },
      "outputs": [],
      "source": [
        "model.summary()"
      ]
    },
    {
      "cell_type": "code",
      "source": [],
      "metadata": {
        "id": "erkTXS3zLPYf"
      },
      "execution_count": null,
      "outputs": []
    }
  ],
  "metadata": {
    "kernelspec": {
      "display_name": "Python 3",
      "name": "python3"
    },
    "language_info": {
      "codemirror_mode": {
        "name": "ipython",
        "version": 3
      },
      "file_extension": ".py",
      "mimetype": "text/x-python",
      "name": "python",
      "nbconvert_exporter": "python",
      "pygments_lexer": "ipython3",
      "version": "3.9.12"
    },
    "orig_nbformat": 4,
    "colab": {
      "provenance": [],
      "gpuType": "T4",
      "machine_shape": "hm",
      "include_colab_link": true
    },
    "accelerator": "GPU"
  },
  "nbformat": 4,
  "nbformat_minor": 0
}